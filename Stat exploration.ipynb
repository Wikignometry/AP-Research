{
 "cells": [
  {
   "cell_type": "code",
   "execution_count": 9,
   "metadata": {},
   "outputs": [],
   "source": [
    "import pandas as pd\n",
    "import numpy as np\n",
    "import seaborn as sns\n",
    "import matplotlib.pyplot as plt"
   ]
  },
  {
   "cell_type": "code",
   "execution_count": 10,
   "metadata": {},
   "outputs": [],
   "source": [
    "df = pd.read_csv(\"statnew.csv\") "
   ]
  },
  {
   "cell_type": "code",
   "execution_count": 11,
   "metadata": {},
   "outputs": [
    {
     "data": {
      "text/html": [
       "<div>\n",
       "<style scoped>\n",
       "    .dataframe tbody tr th:only-of-type {\n",
       "        vertical-align: middle;\n",
       "    }\n",
       "\n",
       "    .dataframe tbody tr th {\n",
       "        vertical-align: top;\n",
       "    }\n",
       "\n",
       "    .dataframe thead th {\n",
       "        text-align: right;\n",
       "    }\n",
       "</style>\n",
       "<table border=\"1\" class=\"dataframe\">\n",
       "  <thead>\n",
       "    <tr style=\"text-align: right;\">\n",
       "      <th></th>\n",
       "      <th>video</th>\n",
       "      <th>length</th>\n",
       "      <th>mean</th>\n",
       "      <th>median</th>\n",
       "      <th>std</th>\n",
       "      <th>25th</th>\n",
       "      <th>75th</th>\n",
       "      <th>meannoz</th>\n",
       "      <th>mediannoz</th>\n",
       "      <th>stdnoz</th>\n",
       "      <th>25thnoz</th>\n",
       "      <th>75thnoz</th>\n",
       "      <th>gender</th>\n",
       "    </tr>\n",
       "  </thead>\n",
       "  <tbody>\n",
       "    <tr>\n",
       "      <th>0</th>\n",
       "      <td>ZS1</td>\n",
       "      <td>288</td>\n",
       "      <td>0.241871</td>\n",
       "      <td>0.00000</td>\n",
       "      <td>0.402234</td>\n",
       "      <td>0.0</td>\n",
       "      <td>0.615275</td>\n",
       "      <td>0.398050</td>\n",
       "      <td>0.5423</td>\n",
       "      <td>0.452039</td>\n",
       "      <td>0.284100</td>\n",
       "      <td>0.710850</td>\n",
       "      <td>F</td>\n",
       "    </tr>\n",
       "    <tr>\n",
       "      <th>1</th>\n",
       "      <td>ZS2</td>\n",
       "      <td>295</td>\n",
       "      <td>0.322558</td>\n",
       "      <td>0.40190</td>\n",
       "      <td>0.413079</td>\n",
       "      <td>0.0</td>\n",
       "      <td>0.642850</td>\n",
       "      <td>0.448842</td>\n",
       "      <td>0.5859</td>\n",
       "      <td>0.425212</td>\n",
       "      <td>0.361200</td>\n",
       "      <td>0.716375</td>\n",
       "      <td>F</td>\n",
       "    </tr>\n",
       "    <tr>\n",
       "      <th>2</th>\n",
       "      <td>ZS3</td>\n",
       "      <td>297</td>\n",
       "      <td>0.269344</td>\n",
       "      <td>0.27320</td>\n",
       "      <td>0.405778</td>\n",
       "      <td>0.0</td>\n",
       "      <td>0.624900</td>\n",
       "      <td>0.412346</td>\n",
       "      <td>0.5339</td>\n",
       "      <td>0.439610</td>\n",
       "      <td>0.296375</td>\n",
       "      <td>0.698625</td>\n",
       "      <td>F</td>\n",
       "    </tr>\n",
       "    <tr>\n",
       "      <th>3</th>\n",
       "      <td>ZS4</td>\n",
       "      <td>299</td>\n",
       "      <td>0.176256</td>\n",
       "      <td>0.00000</td>\n",
       "      <td>0.380490</td>\n",
       "      <td>0.0</td>\n",
       "      <td>0.467200</td>\n",
       "      <td>0.291164</td>\n",
       "      <td>0.4215</td>\n",
       "      <td>0.453912</td>\n",
       "      <td>-0.019100</td>\n",
       "      <td>0.636900</td>\n",
       "      <td>F</td>\n",
       "    </tr>\n",
       "    <tr>\n",
       "      <th>4</th>\n",
       "      <td>ZS5</td>\n",
       "      <td>298</td>\n",
       "      <td>0.206179</td>\n",
       "      <td>0.00645</td>\n",
       "      <td>0.376016</td>\n",
       "      <td>0.0</td>\n",
       "      <td>0.525225</td>\n",
       "      <td>0.332115</td>\n",
       "      <td>0.4215</td>\n",
       "      <td>0.431469</td>\n",
       "      <td>0.077200</td>\n",
       "      <td>0.641800</td>\n",
       "      <td>F</td>\n",
       "    </tr>\n",
       "  </tbody>\n",
       "</table>\n",
       "</div>"
      ],
      "text/plain": [
       "  video  length      mean   median       std  25th      75th   meannoz  \\\n",
       "0   ZS1     288  0.241871  0.00000  0.402234   0.0  0.615275  0.398050   \n",
       "1   ZS2     295  0.322558  0.40190  0.413079   0.0  0.642850  0.448842   \n",
       "2   ZS3     297  0.269344  0.27320  0.405778   0.0  0.624900  0.412346   \n",
       "3   ZS4     299  0.176256  0.00000  0.380490   0.0  0.467200  0.291164   \n",
       "4   ZS5     298  0.206179  0.00645  0.376016   0.0  0.525225  0.332115   \n",
       "\n",
       "   mediannoz    stdnoz   25thnoz   75thnoz gender  \n",
       "0     0.5423  0.452039  0.284100  0.710850      F  \n",
       "1     0.5859  0.425212  0.361200  0.716375      F  \n",
       "2     0.5339  0.439610  0.296375  0.698625      F  \n",
       "3     0.4215  0.453912 -0.019100  0.636900      F  \n",
       "4     0.4215  0.431469  0.077200  0.641800      F  "
      ]
     },
     "execution_count": 11,
     "metadata": {},
     "output_type": "execute_result"
    }
   ],
   "source": [
    "df.head()"
   ]
  },
  {
   "cell_type": "code",
   "execution_count": 12,
   "metadata": {},
   "outputs": [],
   "source": [
    "\n",
    "def stats(funct):\n",
    "    plt.hist([df[f'{funct}'][df.gender == 'M'],df[f'{funct}'][df.gender == 'F']], 10, color=['mediumseagreen','royalblue'], alpha=0.8, label=['Male','Female'],edgecolor='black', linewidth=1.2)\n",
    "    plt.legend(loc='upper right')\n",
    "    plt.xlabel(f'{funct.capitalize()} Sentiment')\n",
    "    plt.ylabel('Number of Videos')\n",
    "    plt.savefig(f'statzoom/{funct}sent-videozoom.png')\n",
    "    plt.xlim([-1,1])\n",
    "    plt.savefig(f'stat/{funct}sent-video.png')\n",
    "    plt.clf()\n"
   ]
  },
  {
   "cell_type": "code",
   "execution_count": 13,
   "metadata": {},
   "outputs": [],
   "source": [
    "functs=list(df.columns.values)\n"
   ]
  },
  {
   "cell_type": "code",
   "execution_count": 14,
   "metadata": {},
   "outputs": [
    {
     "name": "stdout",
     "output_type": "stream",
     "text": [
      "['video', 'length', 'mean', 'median', 'std', '25th', '75th', 'meannoz', 'mediannoz', 'stdnoz', '25thnoz', '75thnoz', 'gender']\n"
     ]
    }
   ],
   "source": [
    "print(functs)"
   ]
  },
  {
   "cell_type": "code",
   "execution_count": 15,
   "metadata": {},
   "outputs": [
    {
     "data": {
      "text/plain": [
       "<Figure size 432x288 with 0 Axes>"
      ]
     },
     "metadata": {},
     "output_type": "display_data"
    }
   ],
   "source": [
    "for i in range(len(functs)):\n",
    "    stats(functs[i])"
   ]
  },
  {
   "cell_type": "code",
   "execution_count": 24,
   "metadata": {},
   "outputs": [
    {
     "data": {
      "image/png": "[encoded data removed]",
      "text/plain": [
       "<Figure size 432x288 with 1 Axes>"
      ]
     },
     "metadata": {
      "needs_background": "light"
     },
     "output_type": "display_data"
    }
   ],
   "source": [
    "plt.hist([df['median'][df.gender == 'M'],df['mean'][df.gender == 'F']], 10, color=['mediumseagreen','royalblue'], alpha=0.8, label=['Male','Female'],edgecolor='black', linewidth=1.2)\n",
    "plt.legend(loc='upper right')\n",
    "plt.xlabel('Median Video Sentiment')\n",
    "plt.ylabel('Number of Videos')\n",
    "plt.savefig('mediandistribution.png')"
   ]
  },
  {
   "cell_type": "code",
   "execution_count": 25,
   "metadata": {},
   "outputs": [
    {
     "data": {
      "image/png": "[encoded data removed]",
      "text/plain": [
       "<Figure size 432x288 with 1 Axes>"
      ]
     },
     "metadata": {
      "needs_background": "light"
     },
     "output_type": "display_data"
    }
   ],
   "source": [
    "plt.hist([df['median'][df.gender == 'M'],df['mean'][df.gender == 'F']], 10, density=True, color=['mediumseagreen','royalblue'], alpha=0.8, label=['Male','Female'],edgecolor='black', linewidth=1.2)\n",
    "plt.legend(loc='upper right')\n",
    "plt.xlabel('Median Video Sentiment')\n",
    "plt.ylabel('Relative Number of Videos')\n",
    "plt.savefig('relmediandistribution.png')"
   ]
  },
  {
   "cell_type": "code",
   "execution_count": null,
   "metadata": {},
   "outputs": [],
   "source": []
  }
 ],
 "metadata": {
  "kernelspec": {
   "display_name": "Python 3",
   "language": "python",
   "name": "python3"
  },
  "language_info": {
   "codemirror_mode": {
    "name": "ipython",
    "version": 3
   },
   "file_extension": ".py",
   "mimetype": "text/x-python",
   "name": "python",
   "nbconvert_exporter": "python",
   "pygments_lexer": "ipython3",
   "version": "3.7.6"
  }
 },
 "nbformat": 4,
 "nbformat_minor": 4
}
