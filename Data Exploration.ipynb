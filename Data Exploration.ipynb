{
 "cells": [
  {
   "cell_type": "code",
   "execution_count": 1,
   "metadata": {},
   "outputs": [],
   "source": [
    "import pandas as pd\n",
    "import numpy as np\n",
    "import seaborn as sns\n",
    "import matplotlib.pyplot as plt"
   ]
  },
  {
   "cell_type": "code",
   "execution_count": 2,
   "metadata": {},
   "outputs": [],
   "source": [
    "df = pd.read_csv(\"Appendix A.2.csv\") "
   ]
  },
  {
   "cell_type": "code",
   "execution_count": 3,
   "metadata": {},
   "outputs": [
    {
     "data": {
      "text/html": [
       "<div>\n",
       "<style scoped>\n",
       "    .dataframe tbody tr th:only-of-type {\n",
       "        vertical-align: middle;\n",
       "    }\n",
       "\n",
       "    .dataframe tbody tr th {\n",
       "        vertical-align: top;\n",
       "    }\n",
       "\n",
       "    .dataframe thead th {\n",
       "        text-align: right;\n",
       "    }\n",
       "</style>\n",
       "<table border=\"1\" class=\"dataframe\">\n",
       "  <thead>\n",
       "    <tr style=\"text-align: right;\">\n",
       "      <th></th>\n",
       "      <th>Name</th>\n",
       "      <th>File #</th>\n",
       "      <th>Video ID</th>\n",
       "      <th>URL</th>\n",
       "      <th>Views</th>\n",
       "      <th>Date</th>\n",
       "      <th>Mathematician</th>\n",
       "      <th>Sex</th>\n",
       "    </tr>\n",
       "  </thead>\n",
       "  <tbody>\n",
       "    <tr>\n",
       "      <th>0</th>\n",
       "      <td>Triangles have a Magic Highway - Numberphile</td>\n",
       "      <td>ZS1</td>\n",
       "      <td>wVH4MS6v23U</td>\n",
       "      <td>https://youtu.be/wVH4MS6v23U</td>\n",
       "      <td>483611</td>\n",
       "      <td>2016-02-01</td>\n",
       "      <td>Zvezdelina Stankova</td>\n",
       "      <td>F</td>\n",
       "    </tr>\n",
       "    <tr>\n",
       "      <th>1</th>\n",
       "      <td>A Miraculous Proof (Ptolemy's Theorem) - Numbe...</td>\n",
       "      <td>ZS2</td>\n",
       "      <td>bJOuzqu3MUQ</td>\n",
       "      <td>https://youtu.be/bJOuzqu3MUQ</td>\n",
       "      <td>566395</td>\n",
       "      <td>2020-02-09</td>\n",
       "      <td>Zvezdelina Stankova</td>\n",
       "      <td>F</td>\n",
       "    </tr>\n",
       "    <tr>\n",
       "      <th>2</th>\n",
       "      <td>Pentagons and the Golden Ratio - Numberphile</td>\n",
       "      <td>ZS3</td>\n",
       "      <td>o3QBgkQi_HA</td>\n",
       "      <td>https://youtu.be/o3QBgkQi_HA</td>\n",
       "      <td>205002</td>\n",
       "      <td>2020-02-09</td>\n",
       "      <td>Zvezdelina Stankova</td>\n",
       "      <td>F</td>\n",
       "    </tr>\n",
       "    <tr>\n",
       "      <th>3</th>\n",
       "      <td>The Three Square Geometry Problem - Numberphile</td>\n",
       "      <td>ZS4</td>\n",
       "      <td>m5evLoL0xwg</td>\n",
       "      <td>https://youtu.be/m5evLoL0xwg</td>\n",
       "      <td>988862</td>\n",
       "      <td>2014-09-18</td>\n",
       "      <td>Zvezdelina Stankova</td>\n",
       "      <td>F</td>\n",
       "    </tr>\n",
       "    <tr>\n",
       "      <th>4</th>\n",
       "      <td>Conway Checkers - Numberphile</td>\n",
       "      <td>ZS5</td>\n",
       "      <td>FtNWzlfEQgY</td>\n",
       "      <td>https://youtu.be/FtNWzlfEQgY</td>\n",
       "      <td>217312</td>\n",
       "      <td>2018-02-23</td>\n",
       "      <td>Zvezdelina Stankova</td>\n",
       "      <td>F</td>\n",
       "    </tr>\n",
       "  </tbody>\n",
       "</table>\n",
       "</div>"
      ],
      "text/plain": [
       "                                                Name File #     Video ID  \\\n",
       "0       Triangles have a Magic Highway - Numberphile    ZS1  wVH4MS6v23U   \n",
       "1  A Miraculous Proof (Ptolemy's Theorem) - Numbe...    ZS2  bJOuzqu3MUQ   \n",
       "2       Pentagons and the Golden Ratio - Numberphile    ZS3  o3QBgkQi_HA   \n",
       "3    The Three Square Geometry Problem - Numberphile    ZS4  m5evLoL0xwg   \n",
       "4                      Conway Checkers - Numberphile    ZS5  FtNWzlfEQgY   \n",
       "\n",
       "                            URL   Views        Date        Mathematician Sex  \n",
       "0  https://youtu.be/wVH4MS6v23U  483611  2016-02-01  Zvezdelina Stankova   F  \n",
       "1  https://youtu.be/bJOuzqu3MUQ  566395  2020-02-09  Zvezdelina Stankova   F  \n",
       "2  https://youtu.be/o3QBgkQi_HA  205002  2020-02-09  Zvezdelina Stankova   F  \n",
       "3  https://youtu.be/m5evLoL0xwg  988862  2014-09-18  Zvezdelina Stankova   F  \n",
       "4  https://youtu.be/FtNWzlfEQgY  217312  2018-02-23  Zvezdelina Stankova   F  "
      ]
     },
     "execution_count": 3,
     "metadata": {},
     "output_type": "execute_result"
    }
   ],
   "source": [
    "df.head()"
   ]
  },
  {
   "cell_type": "code",
   "execution_count": 4,
   "metadata": {},
   "outputs": [
    {
     "data": {
      "text/plain": [
       "Name             object\n",
       "File #           object\n",
       "Video ID         object\n",
       "URL              object\n",
       "Views             int64\n",
       "Date             object\n",
       "Mathematician    object\n",
       "Sex              object\n",
       "dtype: object"
      ]
     },
     "execution_count": 4,
     "metadata": {},
     "output_type": "execute_result"
    }
   ],
   "source": [
    "df.dtypes"
   ]
  },
  {
   "cell_type": "code",
   "execution_count": 5,
   "metadata": {},
   "outputs": [
    {
     "data": {
      "text/plain": [
       "Name                     object\n",
       "File #                   object\n",
       "Video ID                 object\n",
       "URL                      object\n",
       "Views                     int64\n",
       "Date             datetime64[ns]\n",
       "Mathematician            object\n",
       "Sex                      object\n",
       "dtype: object"
      ]
     },
     "execution_count": 5,
     "metadata": {},
     "output_type": "execute_result"
    }
   ],
   "source": [
    "df.astype({'Date': 'datetime64'}).dtypes"
   ]
  },
  {
   "cell_type": "code",
   "execution_count": 7,
   "metadata": {},
   "outputs": [
    {
     "data": {
      "image/png": "[encoded data removed]",
      "text/plain": [
       "<Figure size 432x288 with 1 Axes>"
      ]
     },
     "metadata": {
      "needs_background": "light"
     },
     "output_type": "display_data"
    }
   ],
   "source": [
    "bx=df['Views'][df.Sex=='F'].hist(bins=20)"
   ]
  },
  {
   "cell_type": "code",
   "execution_count": 8,
   "metadata": {},
   "outputs": [
    {
     "data": {
      "image/png": "[encoded data removed]",
      "text/plain": [
       "<Figure size 432x288 with 1 Axes>"
      ]
     },
     "metadata": {
      "needs_background": "light"
     },
     "output_type": "display_data"
    }
   ],
   "source": [
    "bx=df['Views'][df.Sex=='M'].hist(bins=20)"
   ]
  },
  {
   "cell_type": "code",
   "execution_count": 9,
   "metadata": {},
   "outputs": [
    {
     "data": {
      "text/plain": [
       "<matplotlib.legend.Legend at 0x7fdfc3e796d0>"
      ]
     },
     "execution_count": 9,
     "metadata": {},
     "output_type": "execute_result"
    },
    {
     "data": {
      "image/png": "[encoded data removed]",
      "text/plain": [
       "<Figure size 432x288 with 1 Axes>"
      ]
     },
     "metadata": {
      "needs_background": "light"
     },
     "output_type": "display_data"
    }
   ],
   "source": [
    "plt.hist(df['Views'][df.Sex == 'F'], color='royalblue', alpha=0.5, label='Female',edgecolor='black', linewidth=1.2)\n",
    "plt.hist(df['Views'][df.Sex == 'M'], color='mediumseagreen', alpha=0.5, label='Male',edgecolor='black', linewidth=1.2)\n",
    "plt.legend(loc='upper right')\n"
   ]
  },
  {
   "cell_type": "code",
   "execution_count": 6,
   "metadata": {},
   "outputs": [
    {
     "data": {
      "image/png": "[encoded data removed]",
      "text/plain": [
       "<Figure size 432x288 with 1 Axes>"
      ]
     },
     "metadata": {
      "needs_background": "light"
     },
     "output_type": "display_data"
    }
   ],
   "source": [
    "plt.hist([df['Views'][df.Sex == 'M'],df['Views'][df.Sex == 'F']], 10, density=True, color=['mediumseagreen','royalblue'], alpha=0.8, label=['Male','Female'],edgecolor='black', linewidth=1.2)\n",
    "plt.legend(loc='upper right')\n",
    "plt.xlabel('Views')\n",
    "plt.ylabel('Relative Number of videos')\n",
    "plt.savefig('relviewsdistribution.png')"
   ]
  },
  {
   "cell_type": "code",
   "execution_count": null,
   "metadata": {},
   "outputs": [],
   "source": []
  }
 ],
 "metadata": {
  "kernelspec": {
   "display_name": "Python 3",
   "language": "python",
   "name": "python3"
  },
  "language_info": {
   "codemirror_mode": {
    "name": "ipython",
    "version": 3
   },
   "file_extension": ".py",
   "mimetype": "text/x-python",
   "name": "python",
   "nbconvert_exporter": "python",
   "pygments_lexer": "ipython3",
   "version": "3.7.6"
  }
 },
 "nbformat": 4,
 "nbformat_minor": 4
}
